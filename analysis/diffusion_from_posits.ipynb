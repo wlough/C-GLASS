{
 "cells": [
  {
   "cell_type": "code",
   "execution_count": 10,
   "metadata": {},
   "outputs": [],
   "source": [
    "import pandas as pd\n",
    "import matplotlib.pyplot as plt\n",
    "import numpy as np\n",
    "import struct"
   ]
  },
  {
   "cell_type": "code",
   "execution_count": 11,
   "metadata": {},
   "outputs": [],
   "source": [
    "def write_to_output(data_array, file):\n",
    "    \"\"\"TODO.\"\"\"\n",
    "    file.write(str(data_array[0]))\n",
    "    if len(data_array) > 1:\n",
    "        for datum in data_array[1:]:\n",
    "            file.write(\" \" + str(datum))\n",
    "    file.write(\"\\n\")\n",
    "        \n",
    "def read_from_binary(type_string, file):\n",
    "    \"\"\"TODO.\"\"\"\n",
    "    return struct.unpack(type_string, file.read(struct.calcsize(type_string)))\n",
    "\n",
    "class PositReader:\n",
    "    \"\"\"TODO.\"\"\"\n",
    "    def __init__(self, posit_file):\n",
    "        \"\"\"TODO.\"\"\"\n",
    "        self.input_file = posit_file\n",
    "        self.output_file = posit_file + \".hr\"\n",
    "        self.made_hr = False\n",
    "    \n",
    "    def make_human_readable(self):\n",
    "        \"\"\"TODO.\"\"\"\n",
    "        with open(self.input_file, 'rb') as fin, open(self.output_file, 'w+') as fout:\n",
    "            # Read header: n_steps, n_posit, timestep (int int double)\n",
    "            header = read_from_binary(\"iid\", fin)\n",
    "\n",
    "            # Write header\n",
    "            write_to_output([\"n_steps\", \"n_posit\", \"delta\"], fout)\n",
    "            write_to_output(header, fout)\n",
    "            \n",
    "            # Read body\n",
    "            write_to_output([\"n_particles\", \"pos_x\", \"pos_y\", \"pos_z\", \"spos_x\", \"spos_y\",\n",
    "                             \"spos_z\", \"u_x\", \"u_y\", \"u_z\", \"diameter\", \"length\"], fout)\n",
    "            n_samples = header[0]//header[1]\n",
    "            for sample in range(n_samples):\n",
    "                # read number of particles (int), 4 bytes\n",
    "                num = read_from_binary(\"i\", fin)[0]\n",
    "                # Read num_particles * posits, each of which are 11 doubles (88 bytes)\n",
    "                # These correspond to avg_pos (x,y,z), scaled_avg_pos (x,y,z), \n",
    "                # orientation (x,y,z), diameter, and length\n",
    "                try:\n",
    "                    posits = read_from_binary(\"ddddddddddd\"*num, fin)\n",
    "                    write_to_output([num] + list(posits), fout)\n",
    "                except Exception:\n",
    "                    print(\"Reached EOF and process terminated early\")\n",
    "                    break\n",
    "        self.made_hr = True\n",
    "        \n",
    "    def get_params_posits(self):\n",
    "        \"\"\"TODO.\"\"\"\n",
    "        if (self.made_hr):\n",
    "            params = pd.read_csv(self.output_file, delim_whitespace=True, nrows=1)\n",
    "            posits = pd.read_csv(self.output_file, skiprows=3, delim_whitespace=True, header=None)\n",
    "            return params, posits\n",
    "        else:\n",
    "            print(\"Error: PositReader has not yet made human-readable file\")\n",
    "            return None, None\n"
   ]
  },
  {
   "cell_type": "code",
   "execution_count": 12,
   "metadata": {},
   "outputs": [],
   "source": [
    "def calc_avg_msd(posits, n_folds=1, every=1):\n",
    "    \"\"\"TODO\"\"\"\n",
    "    def calc_msd(x):\n",
    "        \"\"\"TODO\"\"\"\n",
    "        result = x.iloc[:, 0:3] - x.iloc[0, 0:3]\n",
    "        result = result.apply(lambda y: y**2)\n",
    "        return result.apply(np.sum, axis=1).values\n",
    "    def calc_vcf(x):\n",
    "        \"\"\"TODO\"\"\"\n",
    "        result = x.iloc[:, 6:9] - x.iloc[0, 6:9]\n",
    "        result = result.apply(lambda y: y**2)\n",
    "        return result.apply(np.sum, axis=1).values\n",
    "    \n",
    "    n_samples = posits.shape[0]\n",
    "    n_particles = posits.iloc[0, 0]\n",
    "    n_it = n_samples//n_folds//every\n",
    "    msds = np.zeros((n_it, n_particles*n_folds))\n",
    "    vcfs = np.zeros((n_it, n_particles*n_folds))\n",
    "    tmp = posits.iloc[::every, 1:]\n",
    "    for fold in range(n_folds):\n",
    "        msds[:, fold*n_particles:(fold+1)*n_particles] = np.array([calc_msd(\n",
    "            tmp.iloc[fold*n_it:(fold+1)*n_it, j*11:(j+1)*11]) for j in range(n_particles)]).transpose()\n",
    "        vcfs[:, fold*n_particles:(fold+1)*n_particles] = np.array([calc_vcf(\n",
    "            tmp.iloc[fold*n_it:(fold+1)*n_it, j*11:(j+1)*11]) for j in range(n_particles)]).transpose()\n",
    "    msd = msds.mean(axis=1)\n",
    "    vcf = vcfs.mean(axis=1)\n",
    "    msd_err = msds.std(axis=1)/np.sqrt(n_particles*n_folds)\n",
    "    vcf_err = vcfs.std(axis=1)/np.sqrt(n_particles*n_folds)\n",
    "    return msd, msd_err, vcf, vcf_err\n",
    "\n",
    "\n",
    "def calc_msd_theory(params, posits, n_folds=1, every=1):\n",
    "    \"\"\"TODO\"\"\"\n",
    "    delta = params.delta[0]\n",
    "    n_steps = params.n_steps[0]\n",
    "    length = posits.iloc[0, 11]\n",
    "    diameter = posits.iloc[0, 10]\n",
    "    n_samples = posits.shape[0]\n",
    "    n_it = n_samples//n_folds//every\n",
    "\n",
    "    t = np.linspace(0, params.delta[0]*(params.n_posit[0])*(n_it*every-1), n_it)\n",
    "\n",
    "    ### HSK et al. values\n",
    "    #a = length / diameter + 1\n",
    "    #lna = np.log(a)\n",
    "    #friction_par = 2.0 / 3.0 * (length + 1) / (lna - 0.207 + 0.980 / a - 0.133 / (a * a))\n",
    "    #friction_perp = 4.0 / 3.0 * (length + 1) / (lna + 0.839 + 0.185 / a + 0.233 / (a * a))\n",
    "    #friction_rot = (length + 1)**3 / (3 * (lna  - 0.662 + 0.917/a -0.050/ (a * a)))\n",
    " \n",
    "    ### Doi & Edwards values\n",
    "    logLD = np.log(length / diameter)\n",
    "    friction_perp = 4.0 * length / (3.0 * logLD)\n",
    "    friction_par = 0.5 * friction_perp\n",
    "    friction_rot = length**3/(9 * (logLD - 0.8))\n",
    "    \n",
    "    ### Montesi et al. values\n",
    "    #eps = 1.0 / np.log(length / diameter)\n",
    "    #gamma_0 = 4.0 / 3.0 * eps * ((1 + 0.64 * eps) / (1 - 1.15 * eps) + 1.659 * eps**2)\n",
    "    #friction_perp = length * gamma_0\n",
    "    #friction_par = 0.5 * friction_perp\n",
    "    ### Using same Doi & Edwards value for friction_rot\n",
    "    #friction_rot = length**3/(9 * (np.log(length / diameter) - 0.8))\n",
    "\n",
    "    d_com = (1/friction_par + 2/friction_perp) / 3\n",
    "    d_rot =  1 / friction_rot\n",
    "    msd_theory = lambda t: 6*d_com*t\n",
    "    vcf_theory = lambda t: 2*(1 - np.exp(-2*d_rot*t))\n",
    "    return msd_theory, vcf_theory, t"
   ]
  },
  {
   "cell_type": "code",
   "execution_count": 13,
   "metadata": {},
   "outputs": [],
   "source": [
    "preader = PositReader('sc_filament_species.posit')\n",
    "_ = preader.make_human_readable()"
   ]
  },
  {
   "cell_type": "code",
   "execution_count": 14,
   "metadata": {},
   "outputs": [],
   "source": [
    "params, posits = preader.get_params_posits()"
   ]
  },
  {
   "cell_type": "code",
   "execution_count": 19,
   "metadata": {},
   "outputs": [],
   "source": [
    "n_folds = 100\n",
    "msd, msd_err, vcf, vcf_err = calc_avg_msd(posits, n_folds)"
   ]
  },
  {
   "cell_type": "code",
   "execution_count": 20,
   "metadata": {},
   "outputs": [],
   "source": [
    "msd_theory, vcf_theory, t = calc_msd_theory(params, posits, n_folds)"
   ]
  },
  {
   "cell_type": "code",
   "execution_count": 21,
   "metadata": {},
   "outputs": [
    {
     "data": {
      "image/png": "[encoded data removed]",
      "text/plain": [
       "<Figure size 432x288 with 1 Axes>"
      ]
     },
     "metadata": {
      "needs_background": "light"
     },
     "output_type": "display_data"
    }
   ],
   "source": [
    "plt.figure()\n",
    "plt.errorbar(t, msd, yerr=msd_err, label=\"Simulation\")\n",
    "plt.plot(t, msd_theory(t), 'r--', label=\"Theory\")\n",
    "plt.legend()\n",
    "plt.xlabel(\"Time (sim units)\")\n",
    "plt.ylabel(r\"$\\langle (R(t) - R(0))^2 \\rangle$\")\n",
    "plt.tight_layout()\n",
    "plt.show()"
   ]
  },
  {
   "cell_type": "code",
   "execution_count": 22,
   "metadata": {},
   "outputs": [
    {
     "data": {
      "image/png": "[encoded data removed]",
      "text/plain": [
       "<Figure size 432x288 with 1 Axes>"
      ]
     },
     "metadata": {
      "needs_background": "light"
     },
     "output_type": "display_data"
    }
   ],
   "source": [
    "plt.figure()\n",
    "plt.errorbar(t, vcf, yerr=vcf_err, label=\"Simulation\")\n",
    "plt.plot(t, vcf_theory(t), 'r--', label=\"Theory\")\n",
    "plt.legend()\n",
    "plt.xlabel(\"Time (sim units)\")\n",
    "plt.ylabel(r\"$\\langle (u(t) - u(0))^2 \\rangle$\")\n",
    "locs, labels = plt.yticks()\n",
    "new_labels = [\n",
    "    plt.Text(0,-0.0002,'−0.0002'),\n",
    "    plt.Text(0,0,'0'),\n",
    "    plt.Text(0,0.0002,r'$2\\times10^{-4}$'),\n",
    "    plt.Text(0,0.0004,r'$4\\times10^{-4}$'),\n",
    "    plt.Text(0,0.0006,r'$6\\times10^{-4}$'),\n",
    "    plt.Text(0,0.0008,r'$8\\times10^{-4}$'),\n",
    "    plt.Text(0,0.001,r'$10^{-3}$'),\n",
    "    plt.Text(0,0.0012,r'$1.2\\times10^{-3}$'),\n",
    "    plt.Text(0,0.0014,r'$1.4\\times10^{-3}$')\n",
    "]\n",
    "plt.yticks(locs[1:-1], new_labels[1:-1])\n",
    "plt.tight_layout()\n",
    "#plt.ticklabel_format(style='sci', axis='y', scilimits=(0,0))\n",
    "plt.show()"
   ]
  },
  {
   "cell_type": "code",
   "execution_count": null,
   "metadata": {},
   "outputs": [],
   "source": []
  }
 ],
 "metadata": {
  "kernelspec": {
   "display_name": "Python 3",
   "language": "python",
   "name": "python3"
  },
  "language_info": {
   "codemirror_mode": {
    "name": "ipython",
    "version": 3
   },
   "file_extension": ".py",
   "mimetype": "text/x-python",
   "name": "python",
   "nbconvert_exporter": "python",
   "pygments_lexer": "ipython3",
   "version": "3.7.3"
  }
 },
 "nbformat": 4,
 "nbformat_minor": 2
}
